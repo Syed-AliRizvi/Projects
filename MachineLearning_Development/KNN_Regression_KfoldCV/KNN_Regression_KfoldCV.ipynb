{
 "cells": [
  {
   "cell_type": "markdown",
   "metadata": {},
   "source": [
    "\n",
    "##### Syed Ali Alim Rizvi"
   ]
  },
  {
   "cell_type": "markdown",
   "metadata": {},
   "source": [
    "ref:\n",
    "folds: https://gist.github.com/dsparks/3695362"
   ]
  },
  {
   "cell_type": "markdown",
   "metadata": {},
   "source": [
    "# Model Selection"
   ]
  },
  {
   "cell_type": "code",
   "execution_count": 1,
   "metadata": {},
   "outputs": [
    {
     "name": "stderr",
     "output_type": "stream",
     "text": [
      "Warning message:\n",
      "\"package 'reshape2' was built under R version 3.5.1\"Warning message:\n",
      "\"package 'ggplot2' was built under R version 3.5.1\""
     ]
    }
   ],
   "source": [
    "library(reshape2)\n",
    "library(ggplot2)"
   ]
  },
  {
   "cell_type": "markdown",
   "metadata": {},
   "source": [
    "### K-fold Cross Validation"
   ]
  },
  {
   "cell_type": "markdown",
   "metadata": {},
   "source": [
    "#### K-Fold Cross Validation Function"
   ]
  },
  {
   "cell_type": "code",
   "execution_count": 2,
   "metadata": {},
   "outputs": [],
   "source": [
    "t1a.train <- read.csv('KNN_train.csv')\n",
    "t1a.test <- read.csv('KNN_test.csv')"
   ]
  },
  {
   "cell_type": "code",
   "execution_count": 3,
   "metadata": {},
   "outputs": [],
   "source": [
    "train.data <- t1a.train[,1, drop=0]\n",
    "train.label <- t1a.train[,2]\n",
    "test.data <- t1a.test[,1, drop=0]\n",
    "test.label <- t1a.test[,2]"
   ]
  },
  {
   "cell_type": "code",
   "execution_count": 2,
   "metadata": {},
   "outputs": [],
   "source": [
    "# KNN function \n",
    "knn <- function(train.data, train.label, test.data, K=3){\n",
    "    ## count number of train samples\n",
    "    train.len <- nrow(train.data)\n",
    "    \n",
    "    ## count number of test samples\n",
    "    test.len <- nrow(test.data)\n",
    "    \n",
    "    ## calculate distances between samples\n",
    "    dist <- as.matrix(dist(rbind(test.data, train.data), method= 'euclidean'))[1:test.len, (test.len+1):(test.len+train.len)]\n",
    "       \n",
    "    #create storage for regression predictions\n",
    "    test.label <- rep(0,test.len)\n",
    "    \n",
    "    ## for each test sample...\n",
    "    for (i in 1:test.len){\n",
    "        ### ...find its K nearest neighbours from training sampels...\n",
    "        nn <- as.data.frame(sort(dist[i,], index.return = TRUE))[1:K,2]\n",
    "        \n",
    "        ###... and calculate the predicted labels according to the majority vote\n",
    "        #test.label[i]<- (majority(train.label[nn]))\n",
    "        test.label[i]<- (mean(train.label[nn]))\n",
    "    }\n",
    "    \n",
    "    ## return the class labels as output\n",
    "    return (test.label)\n",
    "}"
   ]
  },
  {
   "cell_type": "raw",
   "metadata": {},
   "source": [
    "#cross validatiion function\n",
    "cv <- function(data, label, numFold=10){\n",
    "    \n",
    "    #initialize seed\n",
    "    set.seed(123)\n",
    "    \n",
    "    #create folds of the dataset\n",
    "    folds <- split(sample(nrow(data), nrow(data), replace=FALSE), as.factor(1:numFold))\n",
    "    \n",
    "    #create a dataframe to store the error values for each fold\n",
    "    miss <- data.frame('Fold'=1:numFold, 'SSE'=rep(0,numFold))\n",
    "    \n",
    "    #for each fold calculate the sse\n",
    "    for(i in 1:numFold){\n",
    "        \n",
    "        test.data <- data[folds[[i]], , drop=0]\n",
    "        test.label <- label[folds[[i]]]\n",
    "        train.data <- data[-folds[[i]], , drop=0]\n",
    "        train.label <- label[-folds[[i]]]\n",
    "        \n",
    "        miss[i,'SSE'] <- sum((test.label - knn(train.data, train.label, test.data, K=11))^2)\n",
    "        \n",
    "    }\n",
    "    \n",
    "    return(miss)\n",
    "\n",
    "}"
   ]
  },
  {
   "cell_type": "markdown",
   "metadata": {},
   "source": [
    "#### Checking CV function against Training Data"
   ]
  },
  {
   "cell_type": "code",
   "execution_count": 6,
   "metadata": {},
   "outputs": [],
   "source": [
    "#chaning the function to include different K values\n",
    "cvk <- function(data, label, numFold=10){\n",
    "    \n",
    "    #initialize seed\n",
    "    set.seed(123)\n",
    "    \n",
    "    #create folds of the dataset\n",
    "    folds <- split(sample(nrow(data), nrow(data), replace=FALSE), as.factor(1:numFold))\n",
    "    \n",
    "    #create a dataframe to store the error values for each fold\n",
    "    miss <- as.data.frame(matrix(0, nrow=10, ncol=20))\n",
    "    for (i in 1:20){\n",
    "        names(miss)[i] <- paste('K', i, sep='')\n",
    "    }\n",
    "    \n",
    "    #for each fold calculate the sse\n",
    "    for(i in 1:numFold){\n",
    "        \n",
    "        #obtain the testing and training data sets for the current fold\n",
    "        test.data <- data[folds[[i]], , drop=0]\n",
    "        test.label <- label[folds[[i]]]\n",
    "        train.data <- data[-folds[[i]], , drop=0]\n",
    "        train.label <- label[-folds[[i]]]\n",
    "        \n",
    "        #calculate for all neighbours\n",
    "        for (neigbours in 1:20) {\n",
    "            \n",
    "            #calculate the sse error and add it to the matix\n",
    "            miss[i,neigbours] <- sum((test.label - knn(train.data, train.label, test.data, K=neigbours))^2)\n",
    "            \n",
    "        }\n",
    "        \n",
    "        \n",
    "    }\n",
    "    \n",
    "    return(miss)\n",
    "\n",
    "}"
   ]
  },
  {
   "cell_type": "code",
   "execution_count": 7,
   "metadata": {},
   "outputs": [
    {
     "name": "stderr",
     "output_type": "stream",
     "text": [
      "Warning message in split.default(sample(nrow(data), nrow(data), replace = FALSE), :\n",
      "\"data length is not a multiple of split variable\""
     ]
    }
   ],
   "source": [
    "sse <- cvk(train.data, train.label, 10)\n",
    "avg.sse <- apply(sse, 2, mean)"
   ]
  },
  {
   "cell_type": "code",
   "execution_count": 8,
   "metadata": {},
   "outputs": [
    {
     "data": {},
     "metadata": {},
     "output_type": "display_data"
    },
    {
     "data": {
      "image/png": "[encoded data removed]",
      "text/plain": [
       "plot without title"
      ]
     },
     "metadata": {},
     "output_type": "display_data"
    }
   ],
   "source": [
    "# plot misclassification percentage for train and test data sets\n",
    "final.sse <- melt(avg.sse)\n",
    "rownames(final.sse) <- NULL\n",
    "final.sse$K <- 1:20\n",
    "names(final.sse)[1] <- 'error'\n",
    "\n",
    "ggplot(data=final.sse, aes(x=1/K, y=error)) + geom_line(color='red') +\n",
    "       scale_color_discrete(guide = guide_legend(title = NULL)) + theme_minimal() +\n",
    "       ggtitle(\"Missclassification Error after Cross Validation\")"
   ]
  },
  {
   "cell_type": "markdown",
   "metadata": {},
   "source": [
    "#### Optimum Value for K"
   ]
  },
  {
   "cell_type": "code",
   "execution_count": 9,
   "metadata": {},
   "outputs": [
    {
     "data": {
      "text/html": [
       "<strong>K2:</strong> 0.961080000000001"
      ],
      "text/latex": [
       "\\textbf{K2:} 0.961080000000001"
      ],
      "text/markdown": [
       "**K2:** 0.961080000000001"
      ],
      "text/plain": [
       "     K2 \n",
       "0.96108 "
      ]
     },
     "metadata": {},
     "output_type": "display_data"
    }
   ],
   "source": [
    "ind <- which.min(avg.sse)\n",
    "avg.sse[ind]"
   ]
  },
  {
   "cell_type": "markdown",
   "metadata": {},
   "source": [
    "The minimum cross validated error from the train data set is now coming out to be at `K = 2`"
   ]
  },
  {
   "cell_type": "markdown",
   "metadata": {},
   "source": [
    "\n",
    "After 10 folds we can see that on average **K=2** performs better than other K values. "
   ]
  }
 ],
 "metadata": {
  "kernelspec": {
   "display_name": "R",
   "language": "R",
   "name": "ir"
  },
  "language_info": {
   "codemirror_mode": "r",
   "file_extension": ".r",
   "mimetype": "text/x-r-source",
   "name": "R",
   "pygments_lexer": "r",
   "version": "3.5.0"
  }
 },
 "nbformat": 4,
 "nbformat_minor": 2
}
