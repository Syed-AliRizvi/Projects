{
 "cells": [
  {
   "cell_type": "markdown",
   "metadata": {
    "colab_type": "text",
    "id": "d67L_46djeOd"
   },
   "source": [
    "# Distributed Databases and Big Data\n",
    "\n",
    "# Solution Workbook\n",
    "\n",
    "\n",
    "- Name: Syed Ali Alim Rizvi"
   ]
  },
  {
   "cell_type": "markdown",
   "metadata": {
    "colab_type": "text",
    "id": "P0M0i4UzrYF9"
   },
   "source": [
    "**About Jupyter Notebook**\n",
    "\n",
    "*Server Information:*\n",
    "\n",
    "    The version of the notebook server is 4.2.3 and is running on:\n",
    "        Python 3.5.2 \n",
    "\n",
    "\n",
    "*Current Kernel Information:*\n",
    "    \n",
    "    Python 3.5.2 \n",
    "    IPython 5.1.0 \n"
   ]
  },
  {
   "cell_type": "markdown",
   "metadata": {},
   "source": [
    "# Table of Contents\n",
    "\n",
    "- [Parallel Search](#1)\n",
    "    * [Part 1](#1.1)\n",
    "    * [Part 2](#1.2)"
   ]
  },
  {
   "cell_type": "markdown",
   "metadata": {
    "colab_type": "text",
    "id": "JAUECcgOjeOf"
   },
   "source": [
    "## Libraries"
   ]
  },
  {
   "cell_type": "markdown",
   "metadata": {
    "colab_type": "text",
    "id": "IFlb2faEmlU0"
   },
   "source": [
    "***`If the library isn't installed already, please unhash and run the code below.`***\n"
   ]
  },
  {
   "cell_type": "code",
   "execution_count": 1,
   "metadata": {
    "colab": {
     "autoexec": {
      "startup": false,
      "wait_interval": 0
     }
    },
    "colab_type": "code",
    "collapsed": true,
    "id": "FPlNIFz1kZq0"
   },
   "outputs": [],
   "source": [
    "#!pip install pandas\n",
    "#!pip install multiprocessing"
   ]
  },
  {
   "cell_type": "code",
   "execution_count": 3,
   "metadata": {
    "colab": {
     "autoexec": {
      "startup": false,
      "wait_interval": 0
     }
    },
    "colab_type": "code",
    "collapsed": true,
    "id": "_UbjOFqgjeOg"
   },
   "outputs": [],
   "source": [
    "import pandas as pd\n",
    "from multiprocessing import Pool"
   ]
  },
  {
   "cell_type": "markdown",
   "metadata": {
    "colab_type": "text",
    "id": "0hRlUjcVjeOk"
   },
   "source": [
    "## data collection"
   ]
  },
  {
   "cell_type": "code",
   "execution_count": 4,
   "metadata": {
    "colab": {
     "autoexec": {
      "startup": false,
      "wait_interval": 0
     }
    },
    "colab_type": "code",
    "collapsed": true,
    "id": "Ur_LwBKfjeOl"
   },
   "outputs": [],
   "source": [
    "# CLIMATE DATA\n",
    "\n",
    "#read excel into dataframe\n",
    "cdf = pd.read_csv('ClimateData.csv')\n",
    "\n",
    "#create list\n",
    "cd = []\n",
    "row = []\n",
    "for i in range(cdf.shape[0]):\n",
    "    for j in range(cdf.shape[1]):\n",
    "        row.append(cdf.iloc[i,j])\n",
    "    cd.append(row)\n",
    "    row = []"
   ]
  },
  {
   "cell_type": "code",
   "execution_count": 5,
   "metadata": {
    "colab": {
     "autoexec": {
      "startup": false,
      "wait_interval": 0
     }
    },
    "colab_type": "code",
    "collapsed": true,
    "id": "UH9Esnv9MeFw"
   },
   "outputs": [],
   "source": [
    "# FIRE DATA \n",
    "\n",
    "#read excel into dataframe\n",
    "fdf = pd.read_csv('FireData.csv')\n",
    "\n",
    "#creating list\n",
    "fd = []\n",
    "row = []\n",
    "for i in range(fdf.shape[0]):\n",
    "    for j in range(fdf.shape[1]):\n",
    "        row.append(fdf.iloc[i,j])\n",
    "    fd.append(row)\n",
    "    row = []\n"
   ]
  },
  {
   "cell_type": "markdown",
   "metadata": {},
   "source": [
    "***"
   ]
  },
  {
   "cell_type": "markdown",
   "metadata": {},
   "source": [
    "# Parallel Search\n",
    "<a id='1'></a>"
   ]
  },
  {
   "cell_type": "markdown",
   "metadata": {
    "colab_type": "text",
    "id": "-DQgt49FjeOf"
   },
   "source": [
    "## Parallel Search  1.1\n",
    "<a id='1.1'></a>\n",
    "\n",
    "1: Write an algorithm to search climate data for the records on 15th December 2017 . Justify\n",
    "your choice of the data partition technique and search technique you have used.\n",
    "\n",
    "\n",
    "\n",
    "\n",
    "\n",
    "Solution:\n",
    "\n",
    "-Partioning\n",
    "Hash Partitioning: since the search will be on the partioning attribute Range/Hash is better than other. Also since the search is an exact search, Hash partioning is even better than Range partioning as it utilizes only the processor that holds the data for that value. \n",
    "\n",
    "-Search:\n",
    "binary search as data can be sorted with dates as integers, sorting data on integers is easy and hence binary search would perform faster than linear search. "
   ]
  },
  {
   "cell_type": "markdown",
   "metadata": {
    "colab_type": "text",
    "id": "AIrX5sgFjeOn"
   },
   "source": [
    "#### Data partition"
   ]
  },
  {
   "cell_type": "markdown",
   "metadata": {
    "colab_type": "text",
    "id": "DDZM2wg8jeOn"
   },
   "source": [
    "##### - Defining hash function"
   ]
  },
  {
   "cell_type": "code",
   "execution_count": 6,
   "metadata": {
    "colab": {
     "autoexec": {
      "startup": false,
      "wait_interval": 0
     }
    },
    "colab_type": "code",
    "collapsed": true,
    "id": "v0W5nouojeOo"
   },
   "outputs": [],
   "source": [
    "# Define a simple hash function.\n",
    "def s_hash(x, n):\n",
    "    \"\"\"\n",
    "    Define a simple hash function for demonstration\n",
    "    Arguments:\n",
    "    x -- an input date as string\n",
    "    n -- the number of processors\n",
    "    Return:\n",
    "    result -- the hash value of x\n",
    "    \"\"\"\n",
    "    ### START CODE HERE ###\n",
    "    date_parse = x.split('-')\n",
    "    result = int(date_parse[1])%n #hash key by months\n",
    "    \n",
    "    ### END CODE HERE ###\n",
    "    return result"
   ]
  },
  {
   "cell_type": "markdown",
   "metadata": {
    "colab_type": "text",
    "id": "TAacQ6DLjeOq"
   },
   "source": [
    "##### - Defining hash partition"
   ]
  },
  {
   "cell_type": "code",
   "execution_count": 7,
   "metadata": {
    "colab": {
     "autoexec": {
      "startup": false,
      "wait_interval": 0
     }
    },
    "colab_type": "code",
    "collapsed": true,
    "id": "AimMnnhAjeOr"
   },
   "outputs": [],
   "source": [
    "# Hash data partitionining function.\n",
    "# We will use the \"s_hash\" function defined above to realise this partitioning\n",
    "def h_partition(data, n):\n",
    "    \n",
    "    \"\"\"\n",
    "    Perform hash data partitioning on data\n",
    "    Arguments:\n",
    "    data -- an input dataset which is a list of lists\n",
    "    n -- the number of processors\n",
    "    Return:\n",
    "    result -- the paritioned subsets of data\n",
    "    \"\"\"\n",
    "    \n",
    "    dic = {} # create a dictionary\n",
    "    \n",
    "    for rec in data: # For each data record (list), perform the following:\n",
    "        \n",
    "        # Get the hash key of the inputs Date\n",
    "        date = rec[1]\n",
    "        h = s_hash(date, n) \n",
    "        \n",
    "        #add records by hash key into dictionary\n",
    "        dic.setdefault(h, [])\n",
    "        dic[h].append(rec)\n",
    "    \n",
    "    return dic"
   ]
  },
  {
   "cell_type": "markdown",
   "metadata": {
    "colab_type": "text",
    "id": "CYnxqYBWjeOu"
   },
   "source": [
    "#### Binary Search Algo"
   ]
  },
  {
   "cell_type": "markdown",
   "metadata": {
    "colab_type": "text",
    "id": "Jd4dARtujeOu"
   },
   "source": [
    "##### - function to change date into integer for comparisor and sorting"
   ]
  },
  {
   "cell_type": "code",
   "execution_count": 8,
   "metadata": {
    "colab": {
     "autoexec": {
      "startup": false,
      "wait_interval": 0
     }
    },
    "colab_type": "code",
    "collapsed": true,
    "id": "BLKBhQRWjeOv"
   },
   "outputs": [],
   "source": [
    "def date_to_int(date):\n",
    "    \n",
    "    \"\"\"\n",
    "    converts a date string of the form 'yyyy-mm-dd' to int of the form 'yyyymmdd'\n",
    "    arguments:\n",
    "    date -- the date that needs to be converted to int form \n",
    "    return:\n",
    "    result -- int representation of the date\n",
    "    \"\"\"\n",
    "    \n",
    "    result = int(date.replace('-',''))\n",
    "    \n",
    "    return result"
   ]
  },
  {
   "cell_type": "markdown",
   "metadata": {
    "colab_type": "text",
    "id": "oyvS3MT0jeOx"
   },
   "source": [
    "##### -binary search algo"
   ]
  },
  {
   "cell_type": "code",
   "execution_count": 9,
   "metadata": {
    "colab": {
     "autoexec": {
      "startup": false,
      "wait_interval": 0
     }
    },
    "colab_type": "code",
    "collapsed": true,
    "id": "ii0EOsb-jeOy"
   },
   "outputs": [],
   "source": [
    "# Binary search function\n",
    "def binary_search(data, key):\n",
    "    \n",
    "    \"\"\"\n",
    "    Perform binary search on data for the given key by sorting it by date first\n",
    "    Arguments:\n",
    "    data -- an input dataset which is a list\n",
    "    key -- an query record\n",
    "    Return:\n",
    "    result -- the position of searched record\n",
    "    \"\"\"\n",
    "\n",
    "    matched_record = None\n",
    "    position = -1 # not found position\n",
    "    lower = 0\n",
    "    middle = 0\n",
    "    upper = len(data)-1\n",
    "    key = date_to_int(key)\n",
    "    \n",
    "    data_sorted = sorted(data, key = lambda rec: date_to_int(rec[1]))\n",
    "    \n",
    "    ### START CODE HERE ###\n",
    "    \n",
    "    while (lower <= upper):\n",
    "        \n",
    "        # calculate middle: the half of lower and upper\n",
    "        middle = int((lower + upper)/2)\n",
    "        \n",
    "        #compare date of rec to key\n",
    "        if date_to_int(data_sorted[middle][1]) == key:\n",
    "            position = middle\n",
    "            matched_record = data_sorted[middle]\n",
    "            break\n",
    "        elif key > date_to_int(data_sorted[middle][1]):\n",
    "            lower = middle+1\n",
    "        else:\n",
    "            upper = middle-1\n",
    "            \n",
    "        \n",
    "    ### END CODE HERE ###\n",
    "    return matched_record # ,position"
   ]
  },
  {
   "cell_type": "markdown",
   "metadata": {
    "colab_type": "text",
    "id": "dl6mVz3BjeO1"
   },
   "source": [
    "#### multiprocessing"
   ]
  },
  {
   "cell_type": "code",
   "execution_count": 10,
   "metadata": {
    "colab": {
     "autoexec": {
      "startup": false,
      "wait_interval": 0
     }
    },
    "colab_type": "code",
    "collapsed": true,
    "id": "qRdCzQwBjeO1"
   },
   "outputs": [],
   "source": [
    "# Parallel searching algorithm for exact match\n",
    "def parallel_search_exact(data, query, n_processor):\n",
    "\n",
    "    \"\"\"\n",
    "    Perform parallel search for exact match on data for the given key\n",
    "    Arguments:\n",
    "    data -- an input dataset which is a list of lists\n",
    "    query -- a query record ie. date to search on\n",
    "    n_processor -- the number of parallel processors\n",
    "    Return:\n",
    "    results -- the matched record information\n",
    "    \"\"\"\n",
    "\n",
    "    #results = []\n",
    "    \n",
    "    # Pool: a Python method enabling parallel processing.\n",
    "    # We need to set the number of processes to n_processor,\n",
    "    # which means that the Pool class will only allow 'n_processor' processes\n",
    "    # running at the same time.\n",
    "    \n",
    "    pool = Pool(processes=n_processor)\n",
    "    \n",
    "    ### START CODE HERE ###\n",
    "    \n",
    "    print(\"data partitioning: h_partition\")\n",
    "    print(\"searching method: binary_search\")\n",
    "    \n",
    "    # Perform data partitioning first\n",
    "    DD = h_partition(data, n_processor)\n",
    "    # Each element in DD has a pair (hash key: records)\n",
    "    query_hash = s_hash(query, n_processor)\n",
    "    d = list(DD[query_hash])\n",
    "    result = pool.apply(binary_search, [d, query])\n",
    "    #results.append(result)\n",
    "    pool.close() #close pool\n",
    "    \n",
    "    \n",
    "    \"\"\"\n",
    "    The method above 'pool.apply()' will lock the function program until all a process\n",
    "    is finished. Alternatively, we can use the 'pool.apply_sync()' method\n",
    "    to spawn one process for each CPU core on your machine.\n",
    "    \"\"\"\n",
    "\n",
    "    ### END CODE HERE ###\n",
    "    \n",
    "    return result#results"
   ]
  },
  {
   "cell_type": "markdown",
   "metadata": {
    "colab_type": "text",
    "id": "7QZZL8XmjeO4"
   },
   "source": [
    "### Solution"
   ]
  },
  {
   "cell_type": "code",
   "execution_count": 13,
   "metadata": {
    "colab": {
     "autoexec": {
      "startup": false,
      "wait_interval": 0
     }
    },
    "colab_type": "code",
    "id": "Mj1SiJL8jeO5",
    "outputId": "d6074cde-3d99-4a10-fe70-58055f4ab97d"
   },
   "outputs": [
    {
     "name": "stdout",
     "output_type": "stream",
     "text": [
      "data partitioning: h_partition\n",
      "searching method: binary_search\n"
     ]
    },
    {
     "data": {
      "text/plain": [
       "[948702,\n",
       " '2017-12-15',\n",
       " 18,\n",
       " 52.0,\n",
       " 7.0999999999999996,\n",
       " 14.0,\n",
       " '   74.5*',\n",
       " '53.1',\n",
       " ' 0.00I']"
      ]
     },
     "execution_count": 13,
     "metadata": {},
     "output_type": "execute_result"
    }
   ],
   "source": [
    "parallel_search_exact(cd, '2017-12-15', 3)"
   ]
  },
  {
   "cell_type": "markdown",
   "metadata": {
    "colab_type": "text",
    "id": "IGSCATt_MeFo"
   },
   "source": [
    "## Parallel Search 1.2\n",
    "<a id='1.2'></a>\n",
    "\n",
    "2: Write an algorithm to find the latitude , longitude and confidence when the surface temperature (°C) was between 65 °C and 100 °C . Justify your choice of the data partition technique and search technique you have used.\n",
    "\n",
    "Solution:\n",
    "\n",
    "Partition: range partition. The retreival is based on the partitioning attribute hence partioning with semantics would be good; hash and range partioning suits best in this regard. But since the retrieval is based on a range of values hence range partioning better suits our purpose as hash partioning is not good for ranged data retrieval. Even though our range is discrete the time wasted to calculate the hash value of each record attribute would make the hash partioning not the best suited for this purpose. \n",
    "\n",
    "Search: Binary Search. Since the search will be done for all data values in the range we will be able to save time and make the search efficient if we sort the data first and then apply the binary search. Sorting the data might feel as an added step but for the following searches it will end up saving time rather than doing linear search for all the values in the range. "
   ]
  },
  {
   "cell_type": "markdown",
   "metadata": {
    "colab_type": "text",
    "id": "7dX5EypmMeF_"
   },
   "source": [
    "#### Data partitioning"
   ]
  },
  {
   "cell_type": "code",
   "execution_count": 14,
   "metadata": {
    "colab": {
     "autoexec": {
      "startup": false,
      "wait_interval": 0
     }
    },
    "colab_type": "code",
    "collapsed": true,
    "id": "MRVJH651MeGA"
   },
   "outputs": [],
   "source": [
    "# Range data partitionining function\n",
    "def range_partition(data, range_indices):\n",
    "    \n",
    "    \"\"\"\n",
    "    Perform range data partitioning on data\n",
    "    Arguments:\n",
    "    data -- an input dataset which is a list\n",
    "    range_indices -- the index list of ranges to be split \n",
    "    Return:\n",
    "    result -- the paritioned subsets of D\n",
    "    \"\"\"\n",
    "    \n",
    "    result = []\n",
    "    \n",
    "    \n",
    "    # First, we sort the dataset according their values\n",
    "    new_data = sorted(data, key= lambda x: x[7])\n",
    "    \n",
    "    \n",
    "    # Calculate the number of bins - 1\n",
    "    n_bin = len(range_indices)\n",
    "    \n",
    "    \n",
    "    # For each bin, perform the following\n",
    "    for i in range(n_bin):\n",
    "        \n",
    "        # Find elements to be belonging to each range\n",
    "        s = [x for x in new_data if x[7] < range_indices[i]]\n",
    "        \n",
    "        # Add the partitioned list to the result\n",
    "        result.append(s)\n",
    "        \n",
    "        if len(s)>0:\n",
    "            # Find the last element in the previous partition\n",
    "            last_element = s[len(s)-1]\n",
    "        \n",
    "            # Find the index of of the last element\n",
    "            last = new_data.index(last_element)\n",
    "\n",
    "            # Remove the partitioned list from the dataset\n",
    "            new_data = new_data[int(last)+1:]\n",
    "    \n",
    "    # Append the last remaining data list\n",
    "    result.append([x for x in new_data if x[7] >= range_indices[n_bin-1]])\n",
    "    \n",
    "    \n",
    "    return result"
   ]
  },
  {
   "cell_type": "code",
   "execution_count": 15,
   "metadata": {
    "colab": {
     "autoexec": {
      "startup": false,
      "wait_interval": 0
     }
    },
    "colab_type": "code",
    "collapsed": true,
    "id": "kJLupXIHMeGC"
   },
   "outputs": [],
   "source": [
    "#range_partition(fd, [60,100])"
   ]
  },
  {
   "cell_type": "markdown",
   "metadata": {
    "colab_type": "text",
    "id": "ETYveoQhMeGF"
   },
   "source": [
    "#### Binary Search Algo"
   ]
  },
  {
   "cell_type": "code",
   "execution_count": 16,
   "metadata": {
    "colab": {
     "autoexec": {
      "startup": false,
      "wait_interval": 0
     }
    },
    "colab_type": "code",
    "collapsed": true,
    "id": "ibbQzPWAMeGF"
   },
   "outputs": [],
   "source": [
    "# Binary search function\n",
    "def binary_search(data, query_range):\n",
    "    \n",
    "    \"\"\"\n",
    "    Perform binary search on data for the given key\n",
    "    Arguments:\n",
    "    data -- an input dataset which is a list\n",
    "    query_range -- a range of records to be found\n",
    "    Return:\n",
    "    result -- the position of searched record\n",
    "    \"\"\"\n",
    "    \n",
    "    # First, we sort the dataset according their values\n",
    "    new_data = sorted(data, key= lambda x: x[7])\n",
    "    \n",
    "    #create list to store matched records\n",
    "    result = []\n",
    "\n",
    "    for key in range(query_range[0]+1, query_range[1]): #range exclusive of boundaries\n",
    "        \n",
    "        #run the binary search for each key without breaking the loop since there can be multiple records for an attribute\n",
    "        matched_record = None\n",
    "        position = -1 # not found position\n",
    "        lower = 0\n",
    "        middle = 0\n",
    "        upper = len(new_data)-1\n",
    "\n",
    "        while (lower <= upper):\n",
    "\n",
    "            # calculate middle: the half of lower and upper\n",
    "            middle = int((lower + upper)/2)\n",
    "            \n",
    "            if new_data[middle][7] == key:\n",
    "                matched_record = new_data.pop(middle) # remove the record after it is found\n",
    "                result.append(matched_record) #add the record into result\n",
    "                upper -= 1 #since we have removed a record subtract one from upper\n",
    "            elif key > new_data[middle][7]:\n",
    "                lower = middle+1\n",
    "            else:\n",
    "                upper = middle-1\n",
    "                \n",
    "    return result"
   ]
  },
  {
   "cell_type": "code",
   "execution_count": 17,
   "metadata": {
    "colab": {
     "autoexec": {
      "startup": false,
      "wait_interval": 0
     }
    },
    "colab_type": "code",
    "collapsed": true,
    "id": "lZAZzunPMeGI"
   },
   "outputs": [],
   "source": [
    "#binary_search(fd, [27,31])"
   ]
  },
  {
   "cell_type": "markdown",
   "metadata": {
    "colab_type": "text",
    "id": "3tGJpYe5MeGL"
   },
   "source": [
    "#### multiprocessing to apply binary search on ranged partitioned data"
   ]
  },
  {
   "cell_type": "code",
   "execution_count": 18,
   "metadata": {
    "colab": {
     "autoexec": {
      "startup": false,
      "wait_interval": 0
     }
    },
    "colab_type": "code",
    "collapsed": true,
    "id": "_PCvrHnwMeGL"
   },
   "outputs": [],
   "source": [
    "# Parallel searching algorithm for range selection\n",
    "# range partition and binary search\n",
    "\n",
    "def parallel_search_range(data, query_range, n_processor, partition_range):\n",
    "    \n",
    "    \"\"\"\n",
    "    Perform parallel search for range selection on data for the given key\n",
    "\n",
    "    Arguments:\n",
    "    data -- the input dataset which is a list\n",
    "    query_range -- a query record in the form of a range (e.g. [30, 50])\n",
    "    n_processor -- the number of parallel processors\n",
    "    \n",
    "    Return:\n",
    "    results -- the matched record information\n",
    "    \"\"\"\n",
    "    \n",
    "    processes = [] #list to store all processes\n",
    "    output = [] #list to store the output of all processes\n",
    "\n",
    "    pool = Pool(processes = n_processor+1) #one kept aside for the main process and 3 for workers\n",
    "       \n",
    "    \n",
    "    #identify the lower and upper bound of the query range\n",
    "    low = query_range[0]\n",
    "    high = query_range[1]\n",
    "            \n",
    "    # Partition by range partitioning\n",
    "    data_parts = range_partition(data, partition_range) \n",
    "    \n",
    "    \n",
    "    check = False #check on whether to apply processor on looping data partition or no\n",
    "    \n",
    "    for data_part in data_parts: # Find the range that may contain the query\n",
    "        \n",
    "        if len(data_part)==0:\n",
    "            continue\n",
    "        \n",
    "        if low < data_part[-1][7]: #compare with last element of partition; since data is sorted\n",
    "            check = True\n",
    "        \n",
    "        if check: #if data in current partition assign a worker to it\n",
    "            process = pool.apply_async(binary_search, args=(data_part, query_range,))\n",
    "            processes.append(process)\n",
    "            \n",
    "        if high < data_part[-1][7]: #if high is already in current data part then break\n",
    "            break\n",
    "            \n",
    "    \n",
    "    for p in processes: \n",
    "        for row in p.get(): #for each processes binary search result (list of records)\n",
    "            output.append(row[0:2]+row[5:6]+[row[-1]]) #put record in output by only extracting desired data\n",
    "    \n",
    "    #close active processes\n",
    "    pool.close() \n",
    "    \n",
    "    print('key: [lat, long, conf, surf_temp]')\n",
    "    return output"
   ]
  },
  {
   "cell_type": "markdown",
   "metadata": {
    "colab_type": "text",
    "id": "6H3GyGmAMeGO"
   },
   "source": [
    "#### Solution"
   ]
  },
  {
   "cell_type": "code",
   "execution_count": 22,
   "metadata": {
    "colab": {
     "autoexec": {
      "startup": false,
      "wait_interval": 0
     }
    },
    "colab_type": "code",
    "id": "X-1edTqkMeGO",
    "outputId": "6970c4a0-f4e8-40ab-a039-7e1f5d817cd2",
    "scrolled": true
   },
   "outputs": [
    {
     "name": "stdout",
     "output_type": "stream",
     "text": [
      "key: [lat, long, conf, surf_temp]\n"
     ]
    },
    {
     "data": {
      "text/plain": [
       "[[-35.932600000000001, 141.958, 78, 66],\n",
       " [-35.194899999999997, 141.06219999999999, 90, 66],\n",
       " [-37.260899999999999, 141.79990000000001, 89, 66],\n",
       " [-35.807099999999998, 142.73179999999999, 89, 66],\n",
       " [-38.042299999999997, 146.40479999999999, 84, 66],\n",
       " [-37.8185, 142.5609, 90, 66],\n",
       " [-37.484299999999998, 143.0592, 89, 66],\n",
       " [-36.1462, 145.20959999999999, 90, 66],\n",
       " [-36.6828, 144.78399999999999, 90, 66],\n",
       " [-36.886699999999998, 142.18729999999999, 90, 66],\n",
       " [-37.6267, 142.99930000000001, 90, 66],\n",
       " [-36.539900000000003, 144.678, 90, 66],\n",
       " [-36.155900000000003, 141.81020000000001, 80, 66],\n",
       " [-36.716500000000003, 142.6155, 90, 66],\n",
       " [-36.511600000000001, 144.56200000000001, 89, 66],\n",
       " [-37.796599999999998, 142.31960000000001, 76, 66],\n",
       " [-36.502299999999998, 143.60380000000001, 85, 66],\n",
       " [-36.638399999999997, 142.4075, 90, 66],\n",
       " [-36.703200000000002, 144.0992, 90, 66],\n",
       " [-37.783499999999997, 148.41380000000001, 90, 66],\n",
       " [-37.444000000000003, 148.101, 73, 66],\n",
       " [-36.110999999999997, 145.124, 85, 66],\n",
       " [-37.624000000000002, 149.31399999999999, 90, 66],\n",
       " [-36.161499999999997, 141.87280000000001, 90, 66],\n",
       " [-35.765700000000002, 142.09059999999999, 90, 66],\n",
       " [-37.744599999999998, 143.4085, 89, 66],\n",
       " [-37.452300000000001, 147.01750000000001, 90, 66],\n",
       " [-35.453299999999999, 143.2029, 85, 66],\n",
       " [-36.432499999999997, 144.3142, 90, 67],\n",
       " [-36.097999999999999, 143.74000000000001, 92, 67],\n",
       " [-38.037199999999999, 146.0616, 90, 67],\n",
       " [-35.542999999999999, 143.316, 86, 67],\n",
       " [-36.2911, 141.16640000000001, 90, 67],\n",
       " [-36.781999999999996, 141.88509999999999, 90, 67],\n",
       " [-36.285699999999999, 141.3467, 90, 67],\n",
       " [-36.790300000000002, 141.61799999999999, 90, 67],\n",
       " [-36.553199999999997, 142.53489999999999, 90, 67],\n",
       " [-36.883499999999998, 142.2098, 90, 67],\n",
       " [-37.578800000000001, 148.59200000000001, 90, 67],\n",
       " [-36.429000000000002, 141.57589999999999, 90, 67],\n",
       " [-36.038699999999999, 145.67869999999999, 90, 67],\n",
       " [-37.134900000000002, 141.94909999999999, 90, 67],\n",
       " [-35.403300000000002, 143.267, 90, 67],\n",
       " [-37.775599999999997, 143.1388, 90, 67],\n",
       " [-36.883000000000003, 142.16370000000001, 79, 67],\n",
       " [-36.710099999999997, 142.38650000000001, 90, 67],\n",
       " [-34.356999999999999, 141.5361, 90, 67],\n",
       " [-36.130299999999998, 146.36060000000001, 90, 67],\n",
       " [-36.343499999999999, 141.5513, 90, 67],\n",
       " [-36.094000000000001, 145.7646, 90, 67],\n",
       " [-36.765099999999997, 143.58009999999999, 91, 68],\n",
       " [-36.348700000000001, 145.53149999999999, 91, 68],\n",
       " [-37.078200000000002, 145.36250000000001, 91, 68],\n",
       " [-36.556800000000003, 144.0538, 90, 68],\n",
       " [-37.717100000000002, 142.95050000000001, 91, 68],\n",
       " [-37.617100000000001, 142.9426, 91, 68],\n",
       " [-36.710099999999997, 142.98099999999999, 77, 68],\n",
       " [-36.444899999999997, 140.9836, 91, 68],\n",
       " [-37.639699999999998, 142.5968, 91, 68],\n",
       " [-37.581400000000002, 148.57769999999999, 86, 68],\n",
       " [-36.775100000000002, 145.1696, 91, 68],\n",
       " [-37.380299999999998, 145.61099999999999, 91, 68],\n",
       " [-36.363500000000002, 142.2809, 91, 68],\n",
       " [-36.628100000000003, 142.4349, 64, 68],\n",
       " [-36.506100000000004, 144.5675, 91, 68],\n",
       " [-38.067399999999999, 142.965, 91, 68],\n",
       " [-35.613799999999998, 143.86660000000001, 91, 68],\n",
       " [-36.993899999999996, 148.2244, 90, 68],\n",
       " [-36.416800000000002, 141.69390000000001, 91, 68],\n",
       " [-37.005499999999998, 148.15819999999999, 80, 68],\n",
       " [-37.832299999999996, 147.22319999999999, 84, 68],\n",
       " [-37.247, 141.27799999999999, 91, 68],\n",
       " [-37.966000000000001, 145.05100000000002, 78, 68],\n",
       " [-36.377400000000002, 143.7079, 91, 68],\n",
       " [-36.7746, 146.66419999999999, 91, 68],\n",
       " [-36.780099999999997, 142.71510000000001, 91, 68],\n",
       " [-35.687100000000001, 143.52350000000001, 90, 68],\n",
       " [-36.656399999999998, 142.86150000000001, 91, 69],\n",
       " [-36.315300000000001, 140.97890000000001, 91, 69],\n",
       " [-36.396099999999997, 140.97810000000001, 91, 69],\n",
       " [-35.681899999999999, 143.5275, 91, 69],\n",
       " [-36.759300000000003, 142.89500000000001, 92, 69],\n",
       " [-36.554099999999998, 144.13210000000001, 91, 69],\n",
       " [-37.696399999999997, 142.85830000000001, 91, 69],\n",
       " [-36.768500000000003, 142.71340000000001, 91, 69],\n",
       " [-36.2637, 145.36490000000001, 91, 69],\n",
       " [-37.864400000000003, 143.4263, 91, 69],\n",
       " [-36.6892, 145.2775, 91, 69],\n",
       " [-37.450000000000003, 148.126, 64, 69],\n",
       " [-36.174799999999998, 145.75819999999999, 91, 69],\n",
       " [-36.939999999999998, 143.28100000000001, 89, 69],\n",
       " [-37.461100000000002, 144.93709999999999, 91, 69],\n",
       " [-36.030999999999999, 145.6824, 91, 69],\n",
       " [-35.2363, 143.00040000000001, 91, 69],\n",
       " [-35.645299999999999, 142.387, 91, 69],\n",
       " [-36.633400000000002, 142.2244, 92, 69],\n",
       " [-37.662500000000001, 144.28700000000001, 92, 70],\n",
       " [-36.582799999999999, 144.57749999999999, 92, 70],\n",
       " [-37.649799999999999, 142.59970000000001, 92, 70],\n",
       " [-36.2652, 145.37690000000001, 92, 70],\n",
       " [-37.928400000000003, 143.108, 92, 70],\n",
       " [-36.192399999999999, 143.17160000000001, 92, 70],\n",
       " [-37.909100000000002, 143.51050000000001, 87, 70],\n",
       " [-36.936399999999999, 143.49959999999999, 92, 70],\n",
       " [-36.881999999999998, 142.71080000000001, 92, 70],\n",
       " [-36.0749, 143.4058, 92, 70],\n",
       " [-36.803000000000004, 142.92609999999999, 92, 70],\n",
       " [-37.403300000000002, 143.6884, 92, 70],\n",
       " [-37.446300000000001, 142.78290000000001, 92, 70],\n",
       " [-37.206299999999999, 147.47130000000001, 92, 70],\n",
       " [-36.320700000000002, 140.97370000000001, 92, 70],\n",
       " [-37.208199999999998, 147.43680000000001, 92, 70],\n",
       " [-36.939599999999999, 143.14619999999999, 92, 70],\n",
       " [-36.015700000000002, 145.94139999999999, 92, 70],\n",
       " [-37.950000000000003, 142.36600000000001, 92, 70],\n",
       " [-38.0715, 142.95910000000001, 92, 70],\n",
       " [-37.816099999999999, 142.92859999999999, 92, 71],\n",
       " [-36.084400000000002, 141.49340000000001, 81, 71],\n",
       " [-36.629899999999999, 142.42339999999999, 66, 71],\n",
       " [-36.682299999999998, 142.50239999999999, 93, 71],\n",
       " [-36.4557, 142.24340000000001, 92, 71],\n",
       " [-36.136699999999998, 145.2071, 92, 71],\n",
       " [-37.019300000000001, 148.14590000000001, 84, 71],\n",
       " [-36.558599999999998, 144.04230000000001, 92, 71],\n",
       " [-36.281999999999996, 146.15700000000001, 100, 71],\n",
       " [-36.663000000000004, 142.85669999999999, 92, 71],\n",
       " [-37.788899999999998, 143.13239999999999, 92, 71],\n",
       " [-38.014800000000001, 146.54130000000001, 87, 71],\n",
       " [-38.239100000000001, 142.81999999999999, 92, 71],\n",
       " [-36.134599999999999, 145.21960000000001, 92, 71],\n",
       " [-37.634, 149.23699999999999, 100, 71],\n",
       " [-36.071399999999997, 145.76650000000001, 92, 71],\n",
       " [-36.930300000000003, 143.10339999999999, 70, 72],\n",
       " [-36.911099999999998, 142.69200000000001, 93, 72],\n",
       " [-36.694200000000002, 143.8021, 93, 72],\n",
       " [-37.768999999999998, 147.94, 93, 72],\n",
       " [-37.513500000000001, 142.72380000000001, 93, 72],\n",
       " [-36.196399999999997, 144.52170000000001, 93, 72],\n",
       " [-36.665700000000001, 143.16749999999999, 93, 72],\n",
       " [-36.5871, 144.4958, 93, 72],\n",
       " [-36.230600000000003, 143.64080000000001, 93, 72],\n",
       " [-37.915700000000001, 143.3544, 93, 72],\n",
       " [-37.561999999999998, 148.05000000000001, 61, 72],\n",
       " [-36.887900000000002, 141.66470000000001, 93, 72],\n",
       " [-37.076900000000002, 141.042, 93, 72],\n",
       " [-37.316499999999998, 147.4932, 93, 72],\n",
       " [-37.746499999999997, 143.38059999999999, 93, 72],\n",
       " [-36.698599999999999, 142.7259, 86, 72],\n",
       " [-37.304600000000001, 143.54480000000001, 93, 72],\n",
       " [-37.588799999999999, 148.5949, 93, 72],\n",
       " [-34.353900000000003, 141.5547, 93, 72],\n",
       " [-36.524299999999997, 142.0839, 93, 72],\n",
       " [-36.663000000000004, 141.3038, 93, 72],\n",
       " [-36.194099999999999, 143.16040000000001, 93, 72],\n",
       " [-36.823799999999999, 143.57239999999999, 93, 73],\n",
       " [-36.909999999999997, 141.07040000000001, 93, 73],\n",
       " [-35.061599999999999, 141.4417, 93, 73],\n",
       " [-36.489899999999999, 142.28049999999999, 93, 73],\n",
       " [-36.331299999999999, 141.0017, 94, 73],\n",
       " [-37.723599999999998, 142.947, 94, 73],\n",
       " [-36.448900000000002, 144.76849999999999, 93, 73],\n",
       " [-38.122399999999999, 143.75530000000001, 94, 73],\n",
       " [-36.809899999999999, 142.72799999999998, 93, 73],\n",
       " [-38.1693, 143.04660000000001, 93, 73],\n",
       " [-37.521999999999998, 143.38740000000001, 71, 73],\n",
       " [-37.727400000000003, 142.95359999999999, 94, 73],\n",
       " [-37.228400000000001, 147.9187, 94, 73],\n",
       " [-36.388000000000005, 141.83090000000001, 93, 73],\n",
       " [-37.875, 142.50999999999999, 93, 73],\n",
       " [-37.467100000000002, 145.99619999999999, 93, 73],\n",
       " [-37.498399999999997, 142.97389999999999, 93, 73],\n",
       " [-37.6982, 143.0549, 94, 73],\n",
       " [-37.945, 144.35399999999998, 93, 73],\n",
       " [-38.013199999999998, 146.52690000000001, 88, 73],\n",
       " [-38.056999999999995, 144.21100000000001, 93, 73],\n",
       " [-36.404600000000002, 141.1534, 93, 73],\n",
       " [-36.154600000000002, 141.81460000000001, 88, 74],\n",
       " [-36.396599999999999, 141.40600000000001, 94, 74],\n",
       " [-36.2121, 144.6885, 94, 74],\n",
       " [-37.340000000000003, 149.36680000000001, 67, 74],\n",
       " [-37.760899999999999, 143.16329999999999, 94, 74],\n",
       " [-36.7806, 141.55969999999999, 94, 74],\n",
       " [-37.435699999999997, 142.78129999999999, 94, 74],\n",
       " [-36.715200000000003, 141.3853, 94, 74],\n",
       " [-36.277500000000003, 146.1026, 94, 74],\n",
       " [-38.048999999999999, 146.0513, 94, 74],\n",
       " [-36.082799999999999, 145.87299999999999, 94, 75],\n",
       " [-37.613, 149.30500000000001, 95, 75],\n",
       " [-36.417900000000003, 144.29239999999999, 94, 75],\n",
       " [-37.780500000000004, 143.50030000000001, 95, 75],\n",
       " [-36.995899999999999, 148.21180000000001, 95, 75],\n",
       " [-37.402799999999999, 143.69319999999999, 95, 75],\n",
       " [-34.355499999999999, 141.54949999999999, 94, 75],\n",
       " [-37.581200000000003, 142.73740000000001, 94, 75],\n",
       " [-36.4816, 141.6635, 94, 75],\n",
       " [-36.293300000000002, 141.36000000000001, 94, 75],\n",
       " [-35.070599999999999, 141.4435, 95, 75],\n",
       " [-36.091999999999999, 141.73060000000001, 94, 75],\n",
       " [-37.890599999999999, 146.20349999999999, 95, 75],\n",
       " [-37.224000000000004, 147.43469999999999, 95, 76],\n",
       " [-36.110399999999998, 145.9829, 90, 76],\n",
       " [-36.141800000000003, 144.02610000000001, 95, 76],\n",
       " [-37.315800000000003, 147.49860000000001, 95, 76],\n",
       " [-36.868099999999998, 143.51859999999999, 95, 76],\n",
       " [-37.432299999999998, 147.6583, 95, 76],\n",
       " [-36.6995, 142.97799999999998, 95, 76],\n",
       " [-36.112200000000001, 142.1491, 90, 76],\n",
       " [-36.301400000000001, 143.203, 95, 76],\n",
       " [-36.431199999999997, 141.2064, 95, 76],\n",
       " [-38.198700000000002, 147.06659999999999, 95, 76],\n",
       " [-36.800899999999999, 142.7259, 95, 76],\n",
       " [-36.653700000000001, 143.87809999999999, 95, 76],\n",
       " [-37.436, 148.08799999999999, 86, 76],\n",
       " [-36.0396, 141.7183, 95, 76],\n",
       " [-37.618000000000002, 149.28100000000001, 95, 76],\n",
       " [-37.685400000000001, 143.45429999999999, 95, 76],\n",
       " [-37.950899999999997, 143.9599, 95, 76],\n",
       " [-36.088500000000003, 145.0359, 95, 76],\n",
       " [-36.718699999999998, 143.80500000000001, 95, 76],\n",
       " [-36.340200000000003, 141.74289999999999, 96, 77],\n",
       " [-36.338700000000003, 141.7542, 96, 77],\n",
       " [-36.325400000000002, 144.3638, 95, 77],\n",
       " [-37.451999999999998, 148.11500000000001, 68, 77],\n",
       " [-36.809399999999997, 142.88849999999999, 96, 77],\n",
       " [-38.126999999999995, 143.81999999999999, 96, 77],\n",
       " [-36.613900000000001, 143.501, 95, 77],\n",
       " [-37.475000000000001, 143.36500000000001, 96, 77],\n",
       " [-36.319499999999998, 146.06010000000001, 83, 77],\n",
       " [-37.8247, 143.62430000000001, 95, 77],\n",
       " [-37.754199999999997, 142.9949, 96, 77],\n",
       " [-37.915199999999999, 145.88079999999999, 95, 77],\n",
       " [-37.807200000000002, 145.97380000000001, 95, 77],\n",
       " [-36.382300000000001, 141.31460000000001, 95, 77],\n",
       " [-37.877400000000002, 145.82130000000001, 95, 77],\n",
       " [-36.5199, 144.7311, 95, 77],\n",
       " [-36.712800000000001, 142.3717, 95, 77],\n",
       " [-36.738, 142.11770000000001, 95, 77],\n",
       " [-36.584699999999998, 145.1968, 96, 78],\n",
       " [-37.677500000000002, 148.51310000000001, 86, 78],\n",
       " [-37.793500000000002, 143.16059999999999, 96, 78],\n",
       " [-37.8429, 147.26910000000001, 96, 78],\n",
       " [-36.189799999999998, 145.09219999999999, 96, 78],\n",
       " [-38.093299999999999, 143.98240000000001, 96, 78],\n",
       " [-36.753100000000003, 141.3253, 84, 78],\n",
       " [-36.319299999999998, 145.9162, 96, 78],\n",
       " [-36.949800000000003, 142.2012, 96, 78],\n",
       " [-36.343800000000002, 141.58320000000001, 96, 78],\n",
       " [-37.222000000000001, 147.46889999999999, 96, 78],\n",
       " [-38.086599999999997, 143.95339999999999, 96, 78],\n",
       " [-37.803000000000004, 142.3151, 83, 78],\n",
       " [-37.365600000000001, 141.3903, 84, 78],\n",
       " [-36.195500000000003, 145.91399999999999, 96, 78],\n",
       " [-36.861600000000003, 142.80250000000001, 90, 78],\n",
       " [-36.6006, 141.9657, 96, 78],\n",
       " [-37.253, 144.3681, 96, 78],\n",
       " [-37.370399999999997, 145.89420000000001, 96, 78],\n",
       " [-36.835900000000002, 146.6448, 96, 78],\n",
       " [-37.378999999999998, 148.13200000000001, 62, 78],\n",
       " [-36.100200000000001, 142.34049999999999, 96, 78],\n",
       " [-36.284199999999998, 141.17410000000001, 96, 79],\n",
       " [-37.400999999999996, 148.06700000000001, 100, 79],\n",
       " [-36.059399999999997, 141.5907, 96, 79],\n",
       " [-36.192500000000003, 145.93000000000001, 97, 79],\n",
       " [-37.662199999999999, 142.1001, 96, 79],\n",
       " [-36.151800000000001, 144.02330000000001, 96, 79],\n",
       " [-34.355400000000003, 141.54130000000001, 96, 79],\n",
       " [-36.106699999999996, 143.79480000000001, 97, 79],\n",
       " [-36.598700000000001, 144.49950000000001, 96, 79],\n",
       " [-36.829799999999999, 143.44829999999999, 96, 79],\n",
       " [-36.678699999999999, 144.80420000000001, 96, 79],\n",
       " [-36.743200000000002, 141.3296, 84, 79],\n",
       " [-37.758699999999997, 142.85210000000001, 84, 80],\n",
       " [-36.600999999999999, 144.6378, 97, 80],\n",
       " [-37.349299999999999, 149.3691, 66, 80],\n",
       " [-36.461199999999998, 144.7775, 91, 80],\n",
       " [-37.092399999999998, 141.89700000000002, 97, 80],\n",
       " [-36.815800000000003, 142.62289999999999, 97, 80],\n",
       " [-37.9452, 143.58340000000001, 97, 80],\n",
       " [-37.066899999999997, 141.0556, 97, 80],\n",
       " [-37.015500000000003, 148.14320000000001, 97, 80],\n",
       " [-36.778700000000001, 141.44489999999999, 97, 80],\n",
       " [-37.657200000000003, 142.0703, 97, 80],\n",
       " [-36.220599999999997, 144.68559999999999, 97, 80],\n",
       " [-37.689999999999998, 143.60499999999999, 97, 80],\n",
       " [-36.369, 143.7132, 97, 80],\n",
       " [-37.609999999999999, 149.30700000000002, 97, 80],\n",
       " [-36.622399999999999, 143.50919999999999, 97, 80],\n",
       " [-36.421100000000003, 141.6875, 97, 81],\n",
       " [-37.488500000000002, 142.0658, 97, 81],\n",
       " [-36.416899999999998, 144.29939999999999, 97, 81],\n",
       " [-36.652700000000003, 142.73920000000001, 97, 81],\n",
       " [-36.5989, 141.97710000000001, 92, 81],\n",
       " [-37.761699999999998, 143.08100000000002, 97, 81],\n",
       " [-37.924700000000001, 142.8999, 97, 81],\n",
       " [-36.453800000000001, 144.76300000000001, 97, 81],\n",
       " [-35.080500000000001, 142.46420000000001, 97, 81],\n",
       " [-36.094999999999999, 141.76990000000001, 98, 82],\n",
       " [-37.750900000000001, 143.4023, 98, 82],\n",
       " [-37.618000000000002, 143.00129999999999, 98, 82],\n",
       " [-34.352600000000002, 141.64580000000001, 98, 82],\n",
       " [-36.294800000000002, 141.3486, 98, 82],\n",
       " [-37.908499999999997, 141.10380000000001, 98, 82],\n",
       " [-38.237499999999997, 142.83629999999999, 98, 82],\n",
       " [-37.378999999999998, 148.126, 58, 82],\n",
       " [-36.065199999999997, 146.07640000000001, 98, 82],\n",
       " [-38.050899999999999, 143.94229999999999, 98, 82],\n",
       " [-36.592100000000002, 144.4905, 98, 82],\n",
       " [-37.758000000000003, 143.179, 98, 82],\n",
       " [-36.932899999999997, 143.77959999999999, 98, 82],\n",
       " [-37.426099999999998, 147.03229999999999, 98, 83],\n",
       " [-37.643900000000002, 142.91299999999998, 93, 83],\n",
       " [-38.285299999999999, 145.95189999999999, 98, 83],\n",
       " [-37.604999999999997, 149.30200000000002, 98, 83],\n",
       " [-35.238100000000003, 142.994, 98, 83],\n",
       " [-37.609000000000002, 149.31999999999999, 99, 84],\n",
       " [-37.399000000000001, 148.08100000000002, 100, 84],\n",
       " [-36.526200000000003, 144.5737, 98, 84],\n",
       " [-36.7943, 143.9571, 99, 84],\n",
       " [-36.134500000000003, 146.351, 98, 84],\n",
       " [-36.428600000000003, 141.1567, 99, 84],\n",
       " [-36.874200000000002, 142.71770000000001, 98, 84],\n",
       " [-38.088099999999997, 143.9391, 99, 84],\n",
       " [-36.543799999999997, 144.75479999999999, 99, 84],\n",
       " [-37.5867, 143.62559999999999, 99, 85],\n",
       " [-36.1586, 145.66659999999999, 99, 85],\n",
       " [-36.269300000000001, 143.17679999999999, 94, 85],\n",
       " [-35.827599999999997, 143.75489999999999, 99, 85],\n",
       " [-37.292999999999999, 141.245, 99, 85],\n",
       " [-36.069099999999999, 145.77969999999999, 99, 85],\n",
       " [-36.728700000000003, 142.60169999999999, 99, 85],\n",
       " [-37.888500000000001, 143.91569999999999, 99, 85],\n",
       " [-37.777000000000001, 148.4128, 99, 85],\n",
       " [-37.511499999999998, 143.13999999999999, 99, 86],\n",
       " [-35.876800000000003, 145.46270000000001, 100, 86],\n",
       " [-36.715299999999999, 143.82259999999999, 99, 86],\n",
       " [-36.634900000000002, 142.21250000000001, 94, 86],\n",
       " [-36.288200000000003, 141.18209999999999, 99, 86],\n",
       " [-37.723599999999998, 143.39949999999999, 99, 86],\n",
       " [-37.600000000000001, 149.32499999999999, 99, 86],\n",
       " [-34.350999999999999, 141.6567, 99, 86],\n",
       " [-37.841200000000001, 147.25360000000001, 100, 87],\n",
       " [-37.959400000000002, 143.56379999999999, 100, 87],\n",
       " [-36.664000000000001, 142.8802, 100, 87],\n",
       " [-36.795699999999997, 143.96520000000001, 100, 87],\n",
       " [-36.344999999999999, 143.4256, 100, 87],\n",
       " [-36.0837, 144.2448, 100, 87],\n",
       " [-37.479599999999998, 141.94030000000001, 94, 87],\n",
       " [-37.606000000000002, 149.31200000000001, 100, 87],\n",
       " [-37.294000000000004, 141.232, 100, 87],\n",
       " [-37.6387, 142.9032, 87, 88],\n",
       " [-37.8429, 143.8366, 100, 88],\n",
       " [-36.730899999999998, 142.36330000000001, 100, 88],\n",
       " [-37.9071, 143.53799999999998, 100, 88],\n",
       " [-36.375599999999999, 143.7243, 100, 88],\n",
       " [-36.399900000000002, 144.73699999999999, 100, 88],\n",
       " [-37.405999999999999, 148.12299999999999, 100, 88],\n",
       " [-37.384700000000002, 142.89349999999999, 100, 88],\n",
       " [-36.7742, 145.19909999999999, 100, 89],\n",
       " [-38.512300000000003, 146.4007, 100, 89],\n",
       " [-37.700200000000002, 142.9562, 100, 89],\n",
       " [-36.379899999999999, 143.7149, 100, 89],\n",
       " [-37.076099999999997, 141.0574, 100, 89],\n",
       " [-38.005200000000002, 142.61789999999999, 94, 89],\n",
       " [-37.216799999999999, 147.47479999999999, 100, 89],\n",
       " [-37.383000000000003, 145.90889999999999, 100, 89],\n",
       " [-37.459099999999999, 144.94919999999999, 100, 89],\n",
       " [-38.069299999999998, 142.97219999999999, 100, 89],\n",
       " [-37.0899, 141.02379999999999, 100, 90],\n",
       " [-36.661499999999997, 144.60140000000001, 100, 90],\n",
       " [-37.1999, 143.82310000000001, 100, 90],\n",
       " [-36.333199999999998, 145.85939999999999, 87, 90],\n",
       " [-36.397199999999998, 141.60409999999999, 100, 90],\n",
       " [-36.068199999999997, 146.06020000000001, 100, 90],\n",
       " [-37.2988, 143.5487, 100, 90],\n",
       " [-36.153199999999998, 143.55269999999999, 100, 90],\n",
       " [-37.501199999999997, 142.58529999999999, 100, 90],\n",
       " [-38.036099999999998, 146.05670000000001, 100, 90],\n",
       " [-37.461999999999996, 148.089, 100, 90],\n",
       " [-37.904699999999998, 141.09450000000001, 100, 90],\n",
       " [-37.3949, 147.01750000000001, 100, 91],\n",
       " [-38.079500000000003, 143.2449, 100, 91],\n",
       " [-36.3459, 141.55860000000001, 100, 91],\n",
       " [-35.818199999999997, 143.87389999999999, 100, 92],\n",
       " [-36.440899999999999, 141.69479999999999, 100, 92],\n",
       " [-37.4343, 147.6327, 100, 92],\n",
       " [-35.185699999999997, 141.06039999999999, 100, 92],\n",
       " [-36.097299999999997, 143.42789999999999, 87, 92],\n",
       " [-36.412500000000001, 143.1189, 100, 92],\n",
       " [-38.0792, 143.73609999999999, 94, 93],\n",
       " [-37.504300000000001, 146.32990000000001, 100, 93],\n",
       " [-36.828299999999999, 143.4605, 100, 93],\n",
       " [-36.879100000000001, 142.7261, 100, 93],\n",
       " [-36.177100000000003, 145.74510000000001, 100, 93],\n",
       " [-36.0077, 141.7747, 100, 93],\n",
       " [-36.7089, 143.3518, 100, 93],\n",
       " [-38.434899999999999, 146.31219999999999, 100, 93],\n",
       " [-35.646900000000002, 142.376, 100, 93],\n",
       " [-37.476999999999997, 143.352, 100, 93],\n",
       " [-37.917400000000001, 145.86779999999999, 100, 93],\n",
       " [-37.296999999999997, 143.5753, 100, 93],\n",
       " [-36.057600000000001, 141.6122, 100, 94],\n",
       " [-38.191699999999997, 147.0745, 100, 94],\n",
       " [-36.343299999999999, 143.43690000000001, 100, 94],\n",
       " [-36.5854, 143.0462, 100, 94],\n",
       " [-35.2378, 142.9864, 100, 94],\n",
       " [-37.570099999999996, 142.6497, 100, 94],\n",
       " [-35.6374, 142.37870000000001, 100, 95],\n",
       " [-38.027000000000001, 142.3844, 100, 95],\n",
       " [-35.805, 142.1326, 100, 95],\n",
       " [-37.502699999999997, 146.34700000000001, 100, 95],\n",
       " [-36.903399999999998, 141.00129999999999, 100, 95],\n",
       " [-36.403500000000001, 140.99350000000001, 100, 95],\n",
       " [-37.3735, 145.83840000000001, 100, 95],\n",
       " [-36.150599999999997, 143.56710000000001, 100, 95],\n",
       " [-37.924599999999998, 146.24639999999999, 100, 96],\n",
       " [-35.811, 142.1403, 94, 96],\n",
       " [-36.909999999999997, 141.2705, 100, 96],\n",
       " [-37.3735, 145.886, 87, 96],\n",
       " [-37.435200000000002, 143.14439999999999, 100, 96],\n",
       " [-36.545400000000001, 144.74019999999999, 100, 96],\n",
       " [-36.451799999999999, 144.77520000000001, 100, 97],\n",
       " [-36.414200000000001, 143.10769999999999, 100, 97],\n",
       " [-36.991799999999998, 141.86670000000001, 100, 97],\n",
       " [-37.797400000000003, 145.95349999999999, 87, 97],\n",
       " [-36.770800000000001, 145.1908, 100, 98],\n",
       " [-37.3902, 148.2955, 100, 98],\n",
       " [-36.081600000000002, 145.85900000000001, 100, 98],\n",
       " [-37.572800000000001, 142.63480000000001, 100, 98],\n",
       " [-37.412799999999997, 147.02420000000001, 85, 98],\n",
       " [-37.302500000000002, 143.57140000000001, 100, 98],\n",
       " [-37.8249, 143.6174, 100, 98],\n",
       " [-37.594900000000003, 142.6857, 100, 98],\n",
       " [-36.181899999999999, 145.92689999999999, 100, 98],\n",
       " [-37.422899999999998, 147.02700000000002, 100, 99],\n",
       " [-37.888100000000001, 145.8229, 100, 99],\n",
       " [-36.749899999999997, 141.3006, 75, 99],\n",
       " [-38.025399999999998, 142.39590000000001, 100, 99],\n",
       " [-36.5839, 143.05879999999999, 100, 99],\n",
       " [-37.781999999999996, 148.3844, 100, 99]]"
      ]
     },
     "execution_count": 22,
     "metadata": {},
     "output_type": "execute_result"
    }
   ],
   "source": [
    "parallel_search_range(fd, [65, 100], 3, [30, 60, 120])"
   ]
  },
  {
   "cell_type": "markdown",
   "metadata": {
    "colab_type": "text",
    "id": "3A0a61D1jePZ"
   },
   "source": [
    "\n",
    "--------------------------------------------------------------------------------------------------------------------------"
   ]
  }
 ],
 "metadata": {
  "colab": {
   "default_view": {},
   "name": "Assignment1.ipynb",
   "provenance": [],
   "toc_visible": true,
   "version": "0.3.2",
   "views": {}
  },
  "kernelspec": {
   "display_name": "Python 3",
   "language": "python",
   "name": "python3"
  },
  "language_info": {
   "codemirror_mode": {
    "name": "ipython",
    "version": 3
   },
   "file_extension": ".py",
   "mimetype": "text/x-python",
   "name": "python",
   "nbconvert_exporter": "python",
   "pygments_lexer": "ipython3",
   "version": "3.6.4"
  }
 },
 "nbformat": 4,
 "nbformat_minor": 1
}
